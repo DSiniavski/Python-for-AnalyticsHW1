{
 "cells": [
  {
   "cell_type": "markdown",
   "id": "74dde073",
   "metadata": {},
   "source": [
    "## Задание 2\n",
    "\n",
    "На складе лежат разные фрукты в разном количестве.\n",
    "\n",
    "Нужно написать функцию, которая на вход принимает любое количество названий фруктов и их количество, \n",
    "\n",
    "а возвращает общее количество фруктов на складе"
   ]
  },
  {
   "cell_type": "code",
   "execution_count": 41,
   "id": "a8457808",
   "metadata": {
    "scrolled": false
   },
   "outputs": [
    {
     "name": "stdout",
     "output_type": "stream",
     "text": [
      "[100, 400, 450, 100, 345]\n"
     ]
    },
    {
     "data": {
      "text/plain": [
       "1395"
      ]
     },
     "execution_count": 41,
     "metadata": {},
     "output_type": "execute_result"
    }
   ],
   "source": [
    "def total_qty(*args):\n",
    "    args = list(inventory.values())\n",
    "    print(args)\n",
    "    return (sum(args))\n",
    "\n",
    "inventory = {'Banana': 100, 'Apple': 400, 'Orange': 450, 'Bluberries':100,'Cherry': 345, }\n",
    "total_qty(inventory)\n",
    "\n",
    "\n"
   ]
  },
  {
   "cell_type": "markdown",
   "id": "5f22121f",
   "metadata": {},
   "source": [
    "## Задача 3:\n",
    "Дан список с затратами на рекламу. Но в данных есть ошибки, некоторые затраты имеют отрицательную величину. \n",
    "Удалите такие значения из списка и посчитайте суммарные затраты\n",
    "[100, 125, -90, 345, 655, -1, 0, 200]\n",
    "Используйте list comprehensions"
   ]
  },
  {
   "cell_type": "code",
   "execution_count": 70,
   "id": "77c3b217",
   "metadata": {},
   "outputs": [
    {
     "data": {
      "text/plain": [
       "1425"
      ]
     },
     "execution_count": 70,
     "metadata": {},
     "output_type": "execute_result"
    }
   ],
   "source": [
    "expences = [100, 125, -90, 345, 655, -1, 0, 200]\n",
    "value = sum(expences[i] for i in range(len(expences)) if expences[i] > 0)\n",
    "value"
   ]
  },
  {
   "cell_type": "markdown",
   "id": "f13de31a",
   "metadata": {},
   "source": [
    "## Задача 4:\n",
    "Даны два списка.\n",
    "\n",
    "Дата покупки\n",
    "\n",
    "['2021-09-14', '2021-12-15', '2021-09-08', '2021-12-05', '2021-10-09', '2021-09-30', '2021-12-22', '2021-11-29', '2021-12-24', '2021-11-26', '2021-10-27', '2021-12-18', '2021-11-09', '2021-11-23', '2021-09-27', '2021-10-02', '2021-12-27', '2021-09-20', '2021-12-13', '2021-11-01', '2021-11-09', '2021-12-06', '2021-12-08', '2021-10-09', '2021-10-31', '2021-09-30', '2021-11-09', '2021-12-13', '2021-10-26', '2021-12-09']\n",
    "\n",
    "Суммы покупок по датам\n",
    "\n",
    "[1270, 8413, 9028, 3703, 5739, 4095, 295, 4944, 5723, 3701, 4471, 651, 7037, 4274, 6275, 4988, 6930, 2971, 6592, 2004, 2822, 519, 3406, 2732, 5015, 2008, 316, 6333, 5700, 2887]"
   ]
  },
  {
   "cell_type": "markdown",
   "id": "65c8ee83",
   "metadata": {},
   "source": [
    "### Задача 4.1\n",
    "Найдите, какая выручка у компании в ноябре\n",
    "\n",
    "Используйте list comprehensions"
   ]
  },
  {
   "cell_type": "code",
   "execution_count": 154,
   "id": "5dc16c15",
   "metadata": {},
   "outputs": [
    {
     "data": {
      "text/plain": [
       "list"
      ]
     },
     "execution_count": 154,
     "metadata": {},
     "output_type": "execute_result"
    }
   ],
   "source": [
    "sales_dates = ['2021-09-14', '2021-12-15', '2021-09-08', '2021-12-05', '2021-10-09', '2021-09-30', '2021-12-22', '2021-11-29', '2021-12-24', '2021-11-26', '2021-10-27', '2021-12-18', '2021-11-09', '2021-11-23', '2021-09-27', '2021-10-02', '2021-12-27', '2021-09-20', '2021-12-13', '2021-11-01', '2021-11-09', '2021-12-06', '2021-12-08', '2021-10-09', '2021-10-31', '2021-09-30', '2021-11-09', '2021-12-13', '2021-10-26', '2021-12-09']\n",
    "sales_value = [1270, 8413, 9028, 3703, 5739, 4095, 295, 4944, 5723, 3701, 4471, 651, 7037, 4274, 6275, 4988, 6930, 2971, 6592, 2004, 2822, 519, 3406, 2732, 5015, 2008, 316, 6333, 5700, 2887]\n",
    "type(sales_dates)\n"
   ]
  },
  {
   "cell_type": "code",
   "execution_count": 117,
   "id": "004fe2ea",
   "metadata": {},
   "outputs": [
    {
     "data": {
      "text/plain": [
       "25098"
      ]
     },
     "execution_count": 117,
     "metadata": {},
     "output_type": "execute_result"
    }
   ],
   "source": [
    "def  sales_in_nov(sales_date, sales_volume):\n",
    "    return (sum (sales_volume[i] for i in range(len(sales_dates)) if  '2021-10-31' < sales_dates [i] < '2021-12-01'))\n",
    "\n",
    "sales_in_nov(sales_dates, sales_value)"
   ]
  },
  {
   "cell_type": "markdown",
   "id": "702c9ce5",
   "metadata": {},
   "source": [
    "### Задача 4.2 \n",
    "\n",
    "Найдите выручку компании в зависимости от месяца\n",
    "\n",
    "Для этого напишите функцию, которая на вход принимает список с датами и список с выручкой, а на выходе словарь, \n",
    "где ключи - это месяцы, а значения - это выручка.\n",
    "\n",
    "Используйте аннотирование типов."
   ]
  },
  {
   "cell_type": "code",
   "execution_count": 170,
   "id": "d8073326",
   "metadata": {},
   "outputs": [
    {
     "name": "stdout",
     "output_type": "stream",
     "text": [
      "124842\n",
      "124842\n"
     ]
    },
    {
     "data": {
      "text/plain": [
       "{'Sept': 25647, 'Oct': 28645, 'Nov': 25098, 'Dec': 45452}"
      ]
     },
     "execution_count": 170,
     "metadata": {},
     "output_type": "execute_result"
    }
   ],
   "source": [
    "def sales_per_month(sales_dates, sales_value)->dict:\n",
    "        \n",
    "    month = (\"Sept\",\"Oct\",'Nov', 'Dec')\n",
    "    sales_sept = 0\n",
    "    sales_oct = 0\n",
    "    sales_nov = 0\n",
    "    sales_dec = 0\n",
    "    \n",
    "    \n",
    "    for i in range(len(sales_dates)):\n",
    "        if '2021-08-31' < sales_dates[i] < '2021-10-01':\n",
    "            \n",
    "            sales_sept = sales_sept+sales_value[i]\n",
    "        if '2021-09-30' < sales_dates[i] < '2021-11-01':\n",
    "            \n",
    "            sales_oct = sales_oct+sales_value[i]\n",
    "        if '2021-10-31' < sales_dates[i] < '2021-12-01':\n",
    "            \n",
    "            sales_nov = sales_nov+sales_value[i]\n",
    "        if '2021-11-30' < sales_dates[i] <= '2021-12-31':\n",
    "            \n",
    "            sales_dec = sales_dec + sales_value[i]\n",
    "            \n",
    "    sales = (sales_sept, sales_oct, sales_nov, sales_dec)        \n",
    "    \n",
    "    print(sum(sales))\n",
    "    print(sum(sales_value))\n",
    "    \n",
    "         \n",
    "    return {month[i]:sales[i] for i in range(len(month))}\n",
    "\n",
    "sales_per_month(sales_dates, sales_value)"
   ]
  },
  {
   "cell_type": "code",
   "execution_count": null,
   "id": "755890eb",
   "metadata": {},
   "outputs": [],
   "source": []
  }
 ],
 "metadata": {
  "kernelspec": {
   "display_name": "Python 3 (ipykernel)",
   "language": "python",
   "name": "python3"
  },
  "language_info": {
   "codemirror_mode": {
    "name": "ipython",
    "version": 3
   },
   "file_extension": ".py",
   "mimetype": "text/x-python",
   "name": "python",
   "nbconvert_exporter": "python",
   "pygments_lexer": "ipython3",
   "version": "3.9.13"
  }
 },
 "nbformat": 4,
 "nbformat_minor": 5
}
